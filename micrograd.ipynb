{
 "cells": [
  {
   "cell_type": "code",
   "execution_count": 3,
   "id": "8d16e690",
   "metadata": {},
   "outputs": [],
   "source": [
    "import pandas as pd\n",
    "import math"
   ]
  },
  {
   "cell_type": "code",
   "execution_count": 20,
   "id": "4612fcae",
   "metadata": {},
   "outputs": [],
   "source": [
    "class Value:\n",
    "    def __init__(self, data, _childern=(), _op=''):\n",
    "        self.data = data\n",
    "        self.prev = \n",
    "    \n",
    "    def __add__(self, other):\n",
    "        return Value(self.data + other.data)\n",
    "    \n",
    "    def __mul__(self, other):\n",
    "        return Value(self.data * other.data)\n",
    "\n",
    "    def __sub__(self, other):\n",
    "        return Value(self.data + -other.data)\n",
    "\n",
    "    def __pow__(self, other):\n",
    "        return Value(self.data ** other.data)\n",
    "    \n",
    "    def __truediv__(self, other):\n",
    "        return Value(self.data * other.data**-1)\n",
    "    \n",
    "    def __repr__(self):\n",
    "        return f\"Value(data={self.data})\"\n",
    "    \n",
    "    def tanh(self, other):\n",
    "        t = self.data\n",
    "        return (1 - t**2)"
   ]
  },
  {
   "cell_type": "code",
   "execution_count": 31,
   "id": "99a769e4",
   "metadata": {},
   "outputs": [
    {
     "data": {
      "text/plain": [
       "Value(data=160)"
      ]
     },
     "execution_count": 31,
     "metadata": {},
     "output_type": "execute_result"
    }
   ],
   "source": [
    "a = Value(4)\n",
    "b = Value(12)\n",
    "c = Value(10)\n",
    "d = a.__add__(b).__mul__(c)\n",
    "d"
   ]
  },
  {
   "cell_type": "code",
   "execution_count": 34,
   "id": "96567ca6",
   "metadata": {},
   "outputs": [
    {
     "data": {
      "text/plain": [
       "Value(data=160)"
      ]
     },
     "execution_count": 34,
     "metadata": {},
     "output_type": "execute_result"
    }
   ],
   "source": [
    "d"
   ]
  }
 ],
 "metadata": {
  "kernelspec": {
   "display_name": "Python 3 (ipykernel)",
   "language": "python",
   "name": "python3"
  },
  "language_info": {
   "codemirror_mode": {
    "name": "ipython",
    "version": 3
   },
   "file_extension": ".py",
   "mimetype": "text/x-python",
   "name": "python",
   "nbconvert_exporter": "python",
   "pygments_lexer": "ipython3",
   "version": "3.10.9"
  }
 },
 "nbformat": 4,
 "nbformat_minor": 5
}
